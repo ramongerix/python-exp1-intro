{
 "cells": [
  {
   "cell_type": "markdown",
   "id": "bfc0c390-3054-4cfd-a0bd-81fe4334e057",
   "metadata": {},
   "source": [
    "## **Programming Assignment 1**\n",
    "#### Introduction to Python Programming\n",
    "#### ------------------------------------------------------------------------------------------------------------------------------------"
   ]
  },
  {
   "cell_type": "markdown",
   "id": "2615760d-3fa8-4527-807f-7e6aae8fcb39",
   "metadata": {},
   "source": [
    "#### **01 Alphabet Soup Problem**"
   ]
  },
  {
   "cell_type": "code",
   "execution_count": null,
   "id": "9f59e658-f2a6-4a08-a275-c300cc412ab6",
   "metadata": {},
   "outputs": [],
   "source": [
    "def alphabet_soup(word): #function that accepts a string word\n",
    "    sorted_word = \"\".join(sorted(word, key=str.lower)) #join character into one string, sort the word ignoring case\n",
    "    print(sorted_word) #prints the sorted word\n",
    "\n",
    "alphabet_soup(\"type here\") #input the word you want to be sorted \"input\""
   ]
  },
  {
   "cell_type": "markdown",
   "id": "c3b69ea0-c791-4114-a575-68c1a7ea9ba8",
   "metadata": {},
   "source": [
    "####"
   ]
  },
  {
   "cell_type": "markdown",
   "id": "46c4b071-cc2f-47fe-b489-1dfdd61c6432",
   "metadata": {},
   "source": [
    "#### **02 Emoticon Problem**"
   ]
  },
  {
   "cell_type": "code",
   "execution_count": null,
   "id": "5c4aece8-44f3-4fd3-846c-9895b07ab5f5",
   "metadata": {},
   "outputs": [],
   "source": [
    "def emotify(sentence): #function that accepts a string word\n",
    "    emoticons = {\"smile\":\":)\", \"grin\":\":D\", \"sad\":\":((\", \"mad\":\">:(\"} #dictionary for word to emoticons conversion\n",
    "\n",
    "    words = sentence.split() #splits input sentence into words, interchange if in dictionary\n",
    "    output = [emoticons.get(word, word) for word in words]\n",
    "    return \" \".join(output)\n",
    "\n",
    "emotify(\"I am sad\")"
   ]
  },
  {
   "cell_type": "markdown",
   "id": "98030408-8c78-4ac1-bf07-1b70864b629b",
   "metadata": {},
   "source": [
    "####"
   ]
  },
  {
   "cell_type": "markdown",
   "id": "7bb858a1-c99d-4bce-9bd1-e32ba6ae6499",
   "metadata": {},
   "source": [
    "#### **03 Unpacking List Problem**"
   ]
  },
  {
   "cell_type": "code",
   "execution_count": null,
   "id": "2c9c185b-320b-4c79-9bd0-53707e65776d",
   "metadata": {},
   "outputs": [],
   "source": [
    "list = [1, 2, 3, 4, 5, 6] #input any numerical value\n",
    "\n",
    "#slicing \n",
    "first = list[0] #display first (0) index\n",
    "middle = list[1:-1] #display index from 1 to -2\n",
    "last = list[-1] #display last index\n",
    "\n",
    "#output\n",
    "print(\"first:\", first,    \"middle:\", middle,   \"last:\", last)"
   ]
  }
 ],
 "metadata": {
  "kernelspec": {
   "display_name": "Python 3 (ipykernel)",
   "language": "python",
   "name": "python3"
  },
  "language_info": {
   "codemirror_mode": {
    "name": "ipython",
    "version": 3
   },
   "file_extension": ".py",
   "mimetype": "text/x-python",
   "name": "python",
   "nbconvert_exporter": "python",
   "pygments_lexer": "ipython3",
   "version": "3.13.5"
  }
 },
 "nbformat": 4,
 "nbformat_minor": 5
}
